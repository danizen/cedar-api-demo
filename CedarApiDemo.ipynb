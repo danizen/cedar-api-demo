{
 "cells": [
  {
   "cell_type": "markdown",
   "metadata": {},
   "source": [
    "### Uising Cedar API from Python\n",
    "This notebook demonstrates an ability to use the Cedar API from Python.\n",
    "Tools and packages used:\n",
    "\n",
    "* python 3.5.1 (any Python 3+ should work)\n",
    "* requests package (`pip install requests` should work)\n",
    "* Local file `$HOME\\.cedarkey`"
   ]
  },
  {
   "cell_type": "code",
   "execution_count": 1,
   "metadata": {},
   "outputs": [],
   "source": [
    "import os\n",
    "import pathlib\n",
    "import requests\n",
    "\n",
    "resource_endpoint = 'https://resource.metadatacenter.org'\n",
    "terminology_endpoint = 'https://terminology.metadatacenter.org/bioportal'"
   ]
  },
  {
   "cell_type": "markdown",
   "metadata": {},
   "source": [
    "Load apiKey from file"
   ]
  },
  {
   "cell_type": "code",
   "execution_count": 2,
   "metadata": {},
   "outputs": [
    {
     "data": {
      "text/plain": [
       "'C:\\\\Users\\\\davisda4\\\\.cedarkey'"
      ]
     },
     "execution_count": 2,
     "metadata": {},
     "output_type": "execute_result"
    }
   ],
   "source": [
    "cedarkeypath = os.path.join(os.environ['HOME'], '.cedarkey')\n",
    "cedarkeypath"
   ]
  },
  {
   "cell_type": "code",
   "execution_count": 3,
   "metadata": {},
   "outputs": [],
   "source": [
    "with open(cedarkeypath) as fp:\n",
    "    apikey = fp.read().strip()"
   ]
  },
  {
   "cell_type": "markdown",
   "metadata": {},
   "source": [
    "Create a session holding the authorization header and accepting JSON"
   ]
  },
  {
   "cell_type": "code",
   "execution_count": 4,
   "metadata": {},
   "outputs": [],
   "source": [
    "sess = requests.Session()\n",
    "sess.headers['Authorization'] = 'apiKey %s' % apikey\n",
    "sess.headers['Accept'] = 'application/json'"
   ]
  },
  {
   "cell_type": "markdown",
   "metadata": {},
   "source": [
    "### Resource Service\n",
    "Do a search on the resource service"
   ]
  },
  {
   "cell_type": "code",
   "execution_count": 5,
   "metadata": {},
   "outputs": [
    {
     "data": {
      "text/plain": [
       "<Response [200]>"
      ]
     },
     "execution_count": 5,
     "metadata": {},
     "output_type": "execute_result"
    }
   ],
   "source": [
    "search_params = {\n",
    "    'q': 'LC Movie Example',\n",
    "    'resource_types': 'template',\n",
    "    'sharing': 'shared-with-me',\n",
    "}\n",
    "response = sess.get(resource_endpoint + '/search', params=search_params)\n",
    "response"
   ]
  },
  {
   "cell_type": "code",
   "execution_count": 6,
   "metadata": {},
   "outputs": [
    {
     "data": {
      "text/plain": [
       "10"
      ]
     },
     "execution_count": 6,
     "metadata": {},
     "output_type": "execute_result"
    }
   ],
   "source": [
    "data = response.json()\n",
    "len(data['resources'])"
   ]
  },
  {
   "cell_type": "markdown",
   "metadata": {},
   "source": [
    "__Issue 1:__ API worked, but too many results found. Paging required to find the one with title \"LC Movie Example\""
   ]
  },
  {
   "cell_type": "markdown",
   "metadata": {},
   "source": [
    "No more matter - can we find the one we need?"
   ]
  },
  {
   "cell_type": "code",
   "execution_count": 7,
   "metadata": {},
   "outputs": [
    {
     "data": {
      "text/plain": [
       "10"
      ]
     },
     "execution_count": 7,
     "metadata": {},
     "output_type": "execute_result"
    }
   ],
   "source": [
    "offset = 0\n",
    "search_params = {\n",
    "    'q': 'LC Movie Example',\n",
    "    'resource_types': 'template',\n",
    "    'sharing': 'shared-with-me',\n",
    "    'limit': 10,\n",
    "}\n",
    "templates = []\n",
    "total = 1\n",
    "while offset < total:\n",
    "    search_params['offset'] = offset   \n",
    "    response = sess.get(resource_endpoint + '/search', params=search_params)\n",
    "    assert response.ok\n",
    "    data = response.json()\n",
    "    total = data['totalCount']\n",
    "    offset += len(data['resources'])\n",
    "    templates += data['resources']\n",
    "    \n",
    "len(templates)"
   ]
  },
  {
   "cell_type": "markdown",
   "metadata": {},
   "source": [
    "Oops - no more pages - 10 is all there is. So, is it there?"
   ]
  },
  {
   "cell_type": "code",
   "execution_count": 8,
   "metadata": {},
   "outputs": [
    {
     "data": {
      "text/plain": [
       "[{'@id': 'https://repo.metadatacenter.org/templates/916d64a9-e878-44e2-9d69-69eaf0bad233',\n",
       "  'activeUserCanRead': True,\n",
       "  'bibo:status': 'bibo:draft',\n",
       "  'createdByUserName': 'Rafael Goncalves',\n",
       "  'isLatestDraftVersion': None,\n",
       "  'isLatestPublishedVersion': None,\n",
       "  'isLatestVersion': None,\n",
       "  'lastUpdatedByUserName': 'Rafael Goncalves',\n",
       "  'nodeType': 'template',\n",
       "  'oslc:modifiedBy': 'https://metadatacenter.org/users/2c81c03c-c905-4a46-8126-9e378f5c25bb',\n",
       "  'ownedBy': 'https://metadatacenter.org/users/2c81c03c-c905-4a46-8126-9e378f5c25bb',\n",
       "  'ownedByUserName': 'Rafael Goncalves',\n",
       "  'pav:createdBy': 'https://metadatacenter.org/users/2c81c03c-c905-4a46-8126-9e378f5c25bb',\n",
       "  'pav:createdOn': '2018-02-01T15:03:46-0800',\n",
       "  'pav:lastUpdatedOn': '2018-02-01T16:42:32-0800',\n",
       "  'pav:version': '0.0.1',\n",
       "  'schema:description': None,\n",
       "  'schema:identifier': None,\n",
       "  'schema:name': 'LC Movie Example'},\n",
       " {'@id': 'https://repo.metadatacenter.org/templates/ef789e1c-324f-474e-8457-69a4215117b0',\n",
       "  'activeUserCanRead': True,\n",
       "  'bibo:status': 'bibo:draft',\n",
       "  'createdByUserName': 'Dan Davis',\n",
       "  'isLatestDraftVersion': True,\n",
       "  'isLatestPublishedVersion': False,\n",
       "  'isLatestVersion': True,\n",
       "  'lastUpdatedByUserName': 'Dan Davis',\n",
       "  'nodeType': 'template',\n",
       "  'oslc:modifiedBy': 'https://metadatacenter.org/users/ae15fadb-1c79-447a-8007-0a508d22b863',\n",
       "  'ownedBy': 'https://metadatacenter.org/users/ae15fadb-1c79-447a-8007-0a508d22b863',\n",
       "  'ownedByUserName': 'Dan Davis',\n",
       "  'pav:createdBy': 'https://metadatacenter.org/users/ae15fadb-1c79-447a-8007-0a508d22b863',\n",
       "  'pav:createdOn': '2019-02-05T11:37:39-0800',\n",
       "  'pav:lastUpdatedOn': '2019-02-05T11:37:39-0800',\n",
       "  'pav:version': '0.0.1',\n",
       "  'schema:description': '',\n",
       "  'schema:identifier': None,\n",
       "  'schema:name': 'LC Movie Example'}]"
      ]
     },
     "execution_count": 8,
     "metadata": {},
     "output_type": "execute_result"
    }
   ],
   "source": [
    "matched=[template for template in templates if template['schema:name']=='LC Movie Example']\n",
    "matched\n"
   ]
  },
  {
   "cell_type": "markdown",
   "metadata": {},
   "source": [
    "Oh, yeah, I made a copy - we can have a simpler example next time.   Let's retrieve one of these."
   ]
  },
  {
   "cell_type": "code",
   "execution_count": 9,
   "metadata": {},
   "outputs": [
    {
     "data": {
      "text/plain": [
       "'https://repo.metadatacenter.org/templates/916d64a9-e878-44e2-9d69-69eaf0bad233'"
      ]
     },
     "execution_count": 9,
     "metadata": {},
     "output_type": "execute_result"
    }
   ],
   "source": [
    "template_id = matched[0]['@id']\n",
    "template_id"
   ]
  },
  {
   "cell_type": "code",
   "execution_count": 10,
   "metadata": {},
   "outputs": [
    {
     "data": {
      "text/plain": [
       "{'$schema': 'http://json-schema.org/draft-04/schema#',\n",
       " '@context': {'bibo': 'http://purl.org/ontology/bibo/',\n",
       "  'oslc': 'http://open-services.net/ns/core#',\n",
       "  'oslc:modifiedBy': {'@type': '@id'},\n",
       "  'pav': 'http://purl.org/pav/',\n",
       "  'pav:createdBy': {'@type': '@id'},\n",
       "  'pav:createdOn': {'@type': 'xsd:dateTime'},\n",
       "  'pav:lastUpdatedOn': {'@type': 'xsd:dateTime'},\n",
       "  'schema': 'http://schema.org/',\n",
       "  'schema:description': {'@type': 'xsd:string'},\n",
       "  'schema:name': {'@type': 'xsd:string'},\n",
       "  'xsd': 'http://www.w3.org/2001/XMLSchema#'},\n",
       " '@id': 'https://repo.metadatacenter.org/templates/916d64a9-e878-44e2-9d69-69eaf0bad233',\n",
       " '@type': 'https://schema.metadatacenter.org/core/Template',\n",
       " '_ui': {'order': ['Movie Type',\n",
       "   'Lead Actor Family Name',\n",
       "   'Lead Actor First Name'],\n",
       "  'pages': [],\n",
       "  'propertyLabels': {'Lead Actor Family Name': 'Lead Actor Family Name',\n",
       "   'Lead Actor First Name': 'Lead Actor First Name',\n",
       "   'Movie Type': 'Movie Type'}},\n",
       " 'additionalProperties': False,\n",
       " 'bibo:status': 'bibo:draft',\n",
       " 'description': 'Lc movie example template schema generated by the CEDAR Template Editor 1.6.3',\n",
       " 'oslc:modifiedBy': 'https://metadatacenter.org/users/2c81c03c-c905-4a46-8126-9e378f5c25bb',\n",
       " 'pav:createdBy': 'https://metadatacenter.org/users/2c81c03c-c905-4a46-8126-9e378f5c25bb',\n",
       " 'pav:createdOn': '2018-02-01T15:03:46-0800',\n",
       " 'pav:lastUpdatedOn': '2018-02-01T16:42:32-0800',\n",
       " 'pav:version': '0.0.1',\n",
       " 'properties': {'@context': {'additionalProperties': False,\n",
       "   'properties': {'Lead Actor Family Name': {'enum': ['https://schema.metadatacenter.org/properties/f23b73d6-b528-4ae9-b962-a1609dbecc18']},\n",
       "    'Lead Actor First Name': {'enum': ['https://schema.metadatacenter.org/properties/8b741734-57f0-4b9e-a724-5a1949fa28fe']},\n",
       "    'Movie Type': {'enum': ['https://schema.metadatacenter.org/properties/c45a6f37-655c-4fb9-8e7b-05e78f1c2d1c']},\n",
       "    'oslc': {'enum': ['http://open-services.net/ns/core#'],\n",
       "     'format': 'uri',\n",
       "     'type': 'string'},\n",
       "    'oslc:modifiedBy': {'properties': {'@type': {'enum': ['@id'],\n",
       "       'type': 'string'}},\n",
       "     'type': 'object'},\n",
       "    'pav': {'enum': ['http://purl.org/pav/'],\n",
       "     'format': 'uri',\n",
       "     'type': 'string'},\n",
       "    'pav:createdBy': {'properties': {'@type': {'enum': ['@id'],\n",
       "       'type': 'string'}},\n",
       "     'type': 'object'},\n",
       "    'pav:createdOn': {'properties': {'@type': {'enum': ['xsd:dateTime'],\n",
       "       'type': 'string'}},\n",
       "     'type': 'object'},\n",
       "    'pav:lastUpdatedOn': {'properties': {'@type': {'enum': ['xsd:dateTime'],\n",
       "       'type': 'string'}},\n",
       "     'type': 'object'},\n",
       "    'rdfs': {'enum': ['http://www.w3.org/2000/01/rdf-schema#'],\n",
       "     'format': 'uri',\n",
       "     'type': 'string'},\n",
       "    'rdfs:label': {'properties': {'@type': {'enum': ['xsd:string'],\n",
       "       'type': 'string'}},\n",
       "     'type': 'object'},\n",
       "    'schema': {'enum': ['http://schema.org/'],\n",
       "     'format': 'uri',\n",
       "     'type': 'string'},\n",
       "    'schema:description': {'properties': {'@type': {'enum': ['xsd:string'],\n",
       "       'type': 'string'}},\n",
       "     'type': 'object'},\n",
       "    'schema:isBasedOn': {'properties': {'@type': {'enum': ['@id'],\n",
       "       'type': 'string'}},\n",
       "     'type': 'object'},\n",
       "    'schema:name': {'properties': {'@type': {'enum': ['xsd:string'],\n",
       "       'type': 'string'}},\n",
       "     'type': 'object'},\n",
       "    'skos': {'enum': ['http://www.w3.org/2004/02/skos/core#'],\n",
       "     'format': 'uri',\n",
       "     'type': 'string'},\n",
       "    'skos:notation': {'properties': {'@type': {'enum': ['xsd:string'],\n",
       "       'type': 'string'}},\n",
       "     'type': 'object'},\n",
       "    'xsd': {'enum': ['http://www.w3.org/2001/XMLSchema#'],\n",
       "     'format': 'uri',\n",
       "     'type': 'string'}},\n",
       "   'required': ['xsd',\n",
       "    'pav',\n",
       "    'schema',\n",
       "    'oslc',\n",
       "    'schema:isBasedOn',\n",
       "    'schema:name',\n",
       "    'schema:description',\n",
       "    'pav:createdOn',\n",
       "    'pav:createdBy',\n",
       "    'pav:lastUpdatedOn',\n",
       "    'oslc:modifiedBy',\n",
       "    'Movie Type',\n",
       "    'Lead Actor Family Name',\n",
       "    'Lead Actor First Name',\n",
       "    'skos',\n",
       "    'skos:notation'],\n",
       "   'type': 'object'},\n",
       "  '@id': {'format': 'uri', 'type': 'string'},\n",
       "  '@type': {'oneOf': [{'format': 'uri', 'type': 'string'},\n",
       "    {'items': {'format': 'uri', 'type': 'string'},\n",
       "     'minItems': 1,\n",
       "     'type': 'array',\n",
       "     'uniqueItems': True}]},\n",
       "  'Lead Actor Family Name': {'$schema': 'http://json-schema.org/draft-04/schema#',\n",
       "   '@context': {'oslc': 'http://open-services.net/ns/core#',\n",
       "    'oslc:modifiedBy': {'@type': '@id'},\n",
       "    'pav': 'http://purl.org/pav/',\n",
       "    'pav:createdBy': {'@type': '@id'},\n",
       "    'pav:createdOn': {'@type': 'xsd:dateTime'},\n",
       "    'pav:lastUpdatedOn': {'@type': 'xsd:dateTime'},\n",
       "    'schema': 'http://schema.org/',\n",
       "    'schema:description': {'@type': 'xsd:string'},\n",
       "    'schema:name': {'@type': 'xsd:string'},\n",
       "    'skos': 'http://www.w3.org/2004/02/skos/core#',\n",
       "    'skos:altLabel': {'@type': 'xsd:string'},\n",
       "    'skos:prefLabel': {'@type': 'xsd:string'},\n",
       "    'xsd': 'http://www.w3.org/2001/XMLSchema#'},\n",
       "   '@id': 'https://repo.metadatacenter.org/template-fields/e78e5e22-f8c7-4b68-a0af-5b092b867f33',\n",
       "   '@type': 'https://schema.metadatacenter.org/core/TemplateField',\n",
       "   '_ui': {'inputType': 'textfield'},\n",
       "   '_valueConstraints': {'branches': [{'acronym': 'LC-SUBJECTS',\n",
       "      'maxDepth': 0,\n",
       "      'name': 'FamilyName',\n",
       "      'source': 'Library of Congress Subject Headings (LC-SUBJECTS)',\n",
       "      'uri': 'http://www.loc.gov/mads/rdf/v1#FamilyName'}],\n",
       "    'classes': [],\n",
       "    'multipleChoice': False,\n",
       "    'ontologies': [],\n",
       "    'requiredValue': False,\n",
       "    'valueSets': []},\n",
       "   'additionalProperties': False,\n",
       "   'description': 'Lead Actor Family Name field schema generated by the CEDAR Template Editor 1.6.3',\n",
       "   'oslc:modifiedBy': 'https://metadatacenter.org/users/2c81c03c-c905-4a46-8126-9e378f5c25bb',\n",
       "   'pav:createdBy': 'https://metadatacenter.org/users/2c81c03c-c905-4a46-8126-9e378f5c25bb',\n",
       "   'pav:createdOn': '2018-02-01T16:42:32-0800',\n",
       "   'pav:lastUpdatedOn': '2018-02-01T16:42:32-0800',\n",
       "   'properties': {'@id': {'format': 'uri', 'type': 'string'},\n",
       "    '@type': {'oneOf': [{'format': 'uri', 'type': 'string'},\n",
       "      {'items': {'format': 'uri', 'type': 'string'},\n",
       "       'minItems': 1,\n",
       "       'type': 'array',\n",
       "       'uniqueItems': True}]},\n",
       "    'rdfs:label': {'type': ['string', 'null']}},\n",
       "   'schema:description': '',\n",
       "   'schema:name': 'Lead Actor Family Name',\n",
       "   'schema:schemaVersion': '1.5.0',\n",
       "   'title': 'Lead Actor Family Name field schema',\n",
       "   'type': 'object'},\n",
       "  'Lead Actor First Name': {'$schema': 'http://json-schema.org/draft-04/schema#',\n",
       "   '@context': {'oslc': 'http://open-services.net/ns/core#',\n",
       "    'oslc:modifiedBy': {'@type': '@id'},\n",
       "    'pav': 'http://purl.org/pav/',\n",
       "    'pav:createdBy': {'@type': '@id'},\n",
       "    'pav:createdOn': {'@type': 'xsd:dateTime'},\n",
       "    'pav:lastUpdatedOn': {'@type': 'xsd:dateTime'},\n",
       "    'schema': 'http://schema.org/',\n",
       "    'schema:description': {'@type': 'xsd:string'},\n",
       "    'schema:name': {'@type': 'xsd:string'},\n",
       "    'skos': 'http://www.w3.org/2004/02/skos/core#',\n",
       "    'skos:altLabel': {'@type': 'xsd:string'},\n",
       "    'skos:prefLabel': {'@type': 'xsd:string'},\n",
       "    'xsd': 'http://www.w3.org/2001/XMLSchema#'},\n",
       "   '@id': 'https://repo.metadatacenter.org/template-fields/0b3f6670-bc57-4285-bcda-434486cda63b',\n",
       "   '@type': 'https://schema.metadatacenter.org/core/TemplateField',\n",
       "   '_ui': {'inputType': 'textfield'},\n",
       "   '_valueConstraints': {'branches': [{'acronym': 'LC-SUBJECTS',\n",
       "      'maxDepth': 0,\n",
       "      'name': 'PersonalName',\n",
       "      'source': 'Library of Congress Subject Headings (LC-SUBJECTS)',\n",
       "      'uri': 'http://www.loc.gov/mads/rdf/v1#PersonalName'}],\n",
       "    'classes': [],\n",
       "    'multipleChoice': False,\n",
       "    'ontologies': [],\n",
       "    'requiredValue': False,\n",
       "    'valueSets': []},\n",
       "   'additionalProperties': False,\n",
       "   'description': 'Lead Actor First Name field schema generated by the CEDAR Template Editor 1.6.3',\n",
       "   'oslc:modifiedBy': 'https://metadatacenter.org/users/2c81c03c-c905-4a46-8126-9e378f5c25bb',\n",
       "   'pav:createdBy': 'https://metadatacenter.org/users/2c81c03c-c905-4a46-8126-9e378f5c25bb',\n",
       "   'pav:createdOn': '2018-02-01T16:42:32-0800',\n",
       "   'pav:lastUpdatedOn': '2018-02-01T16:42:32-0800',\n",
       "   'properties': {'@id': {'format': 'uri', 'type': 'string'},\n",
       "    '@type': {'oneOf': [{'format': 'uri', 'type': 'string'},\n",
       "      {'items': {'format': 'uri', 'type': 'string'},\n",
       "       'minItems': 1,\n",
       "       'type': 'array',\n",
       "       'uniqueItems': True}]},\n",
       "    'rdfs:label': {'type': ['string', 'null']}},\n",
       "   'schema:description': '',\n",
       "   'schema:name': 'Lead Actor First Name',\n",
       "   'schema:schemaVersion': '1.5.0',\n",
       "   'title': 'Lead Actor First Name field schema',\n",
       "   'type': 'object'},\n",
       "  'Movie Type': {'$schema': 'http://json-schema.org/draft-04/schema#',\n",
       "   '@context': {'oslc': 'http://open-services.net/ns/core#',\n",
       "    'oslc:modifiedBy': {'@type': '@id'},\n",
       "    'pav': 'http://purl.org/pav/',\n",
       "    'pav:createdBy': {'@type': '@id'},\n",
       "    'pav:createdOn': {'@type': 'xsd:dateTime'},\n",
       "    'pav:lastUpdatedOn': {'@type': 'xsd:dateTime'},\n",
       "    'schema': 'http://schema.org/',\n",
       "    'schema:description': {'@type': 'xsd:string'},\n",
       "    'schema:name': {'@type': 'xsd:string'},\n",
       "    'skos': 'http://www.w3.org/2004/02/skos/core#',\n",
       "    'skos:altLabel': {'@type': 'xsd:string'},\n",
       "    'skos:prefLabel': {'@type': 'xsd:string'},\n",
       "    'xsd': 'http://www.w3.org/2001/XMLSchema#'},\n",
       "   '@id': 'https://repo.metadatacenter.org/template-fields/b6815b0a-c21d-45d2-acc4-14dd4b887806',\n",
       "   '@type': 'https://schema.metadatacenter.org/core/TemplateField',\n",
       "   '_ui': {'inputType': 'textfield'},\n",
       "   '_valueConstraints': {'branches': [{'acronym': 'LC-SUBJECTS',\n",
       "      'maxDepth': 0,\n",
       "      'name': 'Motion pictures',\n",
       "      'source': 'Library of Congress Subject Headings (LC-SUBJECTS)',\n",
       "      'uri': 'http://id.loc.gov/authorities/subjects/sh85088084'}],\n",
       "    'classes': [],\n",
       "    'multipleChoice': False,\n",
       "    'ontologies': [],\n",
       "    'requiredValue': False,\n",
       "    'valueSets': []},\n",
       "   'additionalProperties': False,\n",
       "   'description': 'Movie Type field schema generated by the CEDAR Template Editor 1.6.3',\n",
       "   'oslc:modifiedBy': 'https://metadatacenter.org/users/2c81c03c-c905-4a46-8126-9e378f5c25bb',\n",
       "   'pav:createdBy': 'https://metadatacenter.org/users/2c81c03c-c905-4a46-8126-9e378f5c25bb',\n",
       "   'pav:createdOn': '2018-02-01T16:42:32-0800',\n",
       "   'pav:lastUpdatedOn': '2018-02-01T16:42:32-0800',\n",
       "   'properties': {'@id': {'format': 'uri', 'type': 'string'},\n",
       "    '@type': {'oneOf': [{'format': 'uri', 'type': 'string'},\n",
       "      {'items': {'format': 'uri', 'type': 'string'},\n",
       "       'minItems': 1,\n",
       "       'type': 'array',\n",
       "       'uniqueItems': True}]},\n",
       "    'rdfs:label': {'type': ['string', 'null']}},\n",
       "   'schema:description': '',\n",
       "   'schema:name': 'Movie Type',\n",
       "   'schema:schemaVersion': '1.5.0',\n",
       "   'title': 'Movie Type field schema',\n",
       "   'type': 'object'},\n",
       "  'oslc:modifiedBy': {'format': 'uri', 'type': ['string', 'null']},\n",
       "  'pav:createdBy': {'format': 'uri', 'type': ['string', 'null']},\n",
       "  'pav:createdOn': {'format': 'date-time', 'type': ['string', 'null']},\n",
       "  'pav:lastUpdatedOn': {'format': 'date-time', 'type': ['string', 'null']},\n",
       "  'schema:description': {'type': 'string'},\n",
       "  'schema:isBasedOn': {'format': 'uri', 'type': 'string'},\n",
       "  'schema:name': {'minLength': 1, 'type': 'string'}},\n",
       " 'required': ['@context',\n",
       "  '@id',\n",
       "  'schema:isBasedOn',\n",
       "  'schema:name',\n",
       "  'schema:description',\n",
       "  'pav:createdOn',\n",
       "  'pav:createdBy',\n",
       "  'pav:lastUpdatedOn',\n",
       "  'oslc:modifiedBy',\n",
       "  'Movie Type',\n",
       "  'Lead Actor Family Name',\n",
       "  'Lead Actor First Name'],\n",
       " 'schema:description': '',\n",
       " 'schema:name': 'LC Movie Example',\n",
       " 'schema:schemaVersion': '1.5.0',\n",
       " 'title': 'Lc movie example template schema',\n",
       " 'type': 'object'}"
      ]
     },
     "execution_count": 10,
     "metadata": {},
     "output_type": "execute_result"
    }
   ],
   "source": [
    "sess.get(template_id).json()"
   ]
  },
  {
   "cell_type": "markdown",
   "metadata": {},
   "source": [
    "### Terminology Service\n",
    "Do a search on the terminology service"
   ]
  },
  {
   "cell_type": "code",
   "execution_count": 11,
   "metadata": {},
   "outputs": [
    {
     "data": {
      "text/plain": [
       "<Response [200]>"
      ]
     },
     "execution_count": 11,
     "metadata": {},
     "output_type": "execute_result"
    }
   ],
   "source": [
    "term_search_params = {\n",
    "    'q': 'melanoma',\n",
    "    'scope': 'classes',\n",
    "}\n",
    "response = sess.get(terminology_endpoint + '/search', params=term_search_params)\n",
    "response"
   ]
  },
  {
   "cell_type": "code",
   "execution_count": 12,
   "metadata": {},
   "outputs": [
    {
     "data": {
      "text/plain": [
       "dict_keys(['nextPage', 'pageSize', 'prevPage', 'pageCount', 'page', 'collection'])"
      ]
     },
     "execution_count": 12,
     "metadata": {},
     "output_type": "execute_result"
    }
   ],
   "source": [
    "data = response.json()\n",
    "data.keys()"
   ]
  },
  {
   "cell_type": "markdown",
   "metadata": {},
   "source": [
    "That's microservices for you - different paging model"
   ]
  },
  {
   "cell_type": "code",
   "execution_count": 13,
   "metadata": {},
   "outputs": [
    {
     "data": {
      "text/plain": [
       "50"
      ]
     },
     "execution_count": 13,
     "metadata": {},
     "output_type": "execute_result"
    }
   ],
   "source": [
    "len(data['collection'])"
   ]
  },
  {
   "cell_type": "code",
   "execution_count": 14,
   "metadata": {},
   "outputs": [
    {
     "data": {
      "text/plain": [
       "[{'@id': 'http://purl.bioontology.org/ontology/MEDDRA/10053571',\n",
       "  '@type': 'http://data.bioontology.org/metadata/OntologyClass',\n",
       "  'definition': None,\n",
       "  'id': 'http://purl.bioontology.org/ontology/MEDDRA/10053571',\n",
       "  'prefLabel': 'Melanoma',\n",
       "  'source': 'http://data.bioontology.org/ontologies/MEDDRA',\n",
       "  'type': 'OntologyClass'},\n",
       " {'@id': 'http://purl.bioontology.org/ontology/LNC/LA14279-6',\n",
       "  '@type': 'http://data.bioontology.org/metadata/OntologyClass',\n",
       "  'definition': None,\n",
       "  'id': 'http://purl.bioontology.org/ontology/LNC/LA14279-6',\n",
       "  'prefLabel': 'Melanoma',\n",
       "  'source': 'http://data.bioontology.org/ontologies/LOINC',\n",
       "  'type': 'OntologyClass'}]"
      ]
     },
     "execution_count": 14,
     "metadata": {},
     "output_type": "execute_result"
    }
   ],
   "source": [
    "data['collection'][0:2]"
   ]
  },
  {
   "cell_type": "markdown",
   "metadata": {},
   "source": [
    "So, the terminology API works, but the paging model is very different. Things to note."
   ]
  }
 ],
 "metadata": {
  "kernelspec": {
   "display_name": "Python 3",
   "language": "python",
   "name": "python3"
  },
  "language_info": {
   "codemirror_mode": {
    "name": "ipython",
    "version": 3
   },
   "file_extension": ".py",
   "mimetype": "text/x-python",
   "name": "python",
   "nbconvert_exporter": "python",
   "pygments_lexer": "ipython3",
   "version": "3.5.1"
  }
 },
 "nbformat": 4,
 "nbformat_minor": 2
}
